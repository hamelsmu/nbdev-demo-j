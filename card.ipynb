{
 "cells": [
  {
   "cell_type": "code",
   "execution_count": null,
   "metadata": {},
   "outputs": [],
   "source": [
    "#| default_exp card"
   ]
  },
  {
   "cell_type": "markdown",
   "metadata": {},
   "source": [
    "# Card\n",
    "\n",
    "> A Playing Card"
   ]
  },
  {
   "cell_type": "code",
   "execution_count": null,
   "metadata": {},
   "outputs": [],
   "source": [
    "#|export\n",
    "from fastcore.all import patch"
   ]
  },
  {
   "cell_type": "code",
   "execution_count": null,
   "metadata": {},
   "outputs": [],
   "source": [
    "#|export\n",
    "suits = [\"♣️\",\"♦️\",\"❤️\",\"♠️\"]\n",
    "ranks = [None, \"A\"] + [str(x) for x in range(2,11)]  + [\"J\", \"Q\", \"K\"]"
   ]
  },
  {
   "cell_type": "code",
   "execution_count": null,
   "metadata": {},
   "outputs": [],
   "source": [
    "#|export\n",
    "class Card:\n",
    "    \"A playing card\"\n",
    "    def __init__(self,\n",
    "                 suit:int,  # An index into `suits`\n",
    "                 rank:int): # An index into `ranks`\n",
    "        self.suit,self.rank = suit,rank\n",
    "    def __str__(self): return f\"{ranks[self.rank]}{suits[self.suit]}\"\n",
    "    def __lt__(self, a): return (self.suit,self.rank)<(a.suit,a.rank)\n",
    "    def __gt__(self, a): return (self.suit,self.rank)>(a.suit,a.rank)\n",
    "    __repr__ = __str__\n",
    "    def j(): print('hello')"
   ]
  },
  {
   "cell_type": "markdown",
   "metadata": {},
   "source": [
    "You can create a playing card like this:"
   ]
  },
  {
   "cell_type": "code",
   "execution_count": null,
   "metadata": {},
   "outputs": [
    {
     "data": {
      "text/plain": [
       "2♦️"
      ]
     },
     "execution_count": null,
     "metadata": {},
     "output_type": "execute_result"
    }
   ],
   "source": [
    "Card(1,2)"
   ]
  },
  {
   "cell_type": "markdown",
   "metadata": {},
   "source": [
    "You can compare cards like this"
   ]
  },
  {
   "cell_type": "code",
   "execution_count": null,
   "metadata": {},
   "outputs": [
    {
     "data": {
      "text/plain": [
       "J♦️"
      ]
     },
     "execution_count": null,
     "metadata": {},
     "output_type": "execute_result"
    }
   ],
   "source": [
    "assert Card(1,11) > Card(1,2)\n",
    "Card(1,11)"
   ]
  },
  {
   "cell_type": "code",
   "execution_count": null,
   "metadata": {},
   "outputs": [],
   "source": [
    "#|export\n",
    "@patch\n",
    "def __eq__(self:Card, a): return (self.suit,self.rank)==(a.suit,a.rank)"
   ]
  },
  {
   "cell_type": "markdown",
   "metadata": {},
   "source": [
    "The equality comparison works as well:"
   ]
  },
  {
   "cell_type": "code",
   "execution_count": null,
   "metadata": {},
   "outputs": [],
   "source": [
    "assert Card(1,11) == Card(1,11)"
   ]
  }
 ],
 "metadata": {
  "kernelspec": {
   "display_name": "Python 3 (ipykernel)",
   "language": "python",
   "name": "python3"
  }
 },
 "nbformat": 4,
 "nbformat_minor": 4
}
